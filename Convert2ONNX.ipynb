{
  "nbformat": 4,
  "nbformat_minor": 0,
  "metadata": {
    "colab": {
      "provenance": []
    },
    "kernelspec": {
      "name": "python3",
      "display_name": "Python 3"
    },
    "language_info": {
      "name": "python"
    },
    "accelerator": "GPU",
    "gpuClass": "standard"
  },
  "cells": [
    {
      "cell_type": "markdown",
      "source": [
        "# リポジトリクローン"
      ],
      "metadata": {
        "id": "nnUgU873x2Go"
      }
    },
    {
      "cell_type": "code",
      "execution_count": 1,
      "metadata": {
        "colab": {
          "base_uri": "https://localhost:8080/"
        },
        "id": "KNMrTo4TTdj-",
        "outputId": "8497c555-7f8a-416c-c965-04d9f4b1f882"
      },
      "outputs": [
        {
          "output_type": "stream",
          "name": "stdout",
          "text": [
            "Cloning into 'SCI'...\n",
            "remote: Enumerating objects: 176, done.\u001b[K\n",
            "remote: Counting objects: 100% (11/11), done.\u001b[K\n",
            "remote: Compressing objects: 100% (5/5), done.\u001b[K\n",
            "remote: Total 176 (delta 6), reused 6 (delta 6), pack-reused 165\u001b[K\n",
            "Receiving objects: 100% (176/176), 36.82 MiB | 16.42 MiB/s, done.\n",
            "Resolving deltas: 100% (33/33), done.\n"
          ]
        }
      ],
      "source": [
        "!git clone https://github.com/tengyu1998/SCI"
      ]
    },
    {
      "cell_type": "code",
      "source": [
        "%cd SCI"
      ],
      "metadata": {
        "colab": {
          "base_uri": "https://localhost:8080/"
        },
        "id": "uCZOcdK6Tomd",
        "outputId": "7fa633e6-3121-4d35-8857-ec35d78f2a7e"
      },
      "execution_count": 2,
      "outputs": [
        {
          "output_type": "stream",
          "name": "stdout",
          "text": [
            "/content/SCI\n"
          ]
        }
      ]
    },
    {
      "cell_type": "markdown",
      "source": [
        "# モデルロード"
      ],
      "metadata": {
        "id": "Wvxm_ag2yD0S"
      }
    },
    {
      "cell_type": "code",
      "source": [
        "import torch\n",
        "from model import Finetunemodel"
      ],
      "metadata": {
        "id": "Y9Uiayi1Txj1"
      },
      "execution_count": 3,
      "outputs": []
    },
    {
      "cell_type": "code",
      "source": [
        "model_easy = Finetunemodel('./weights/easy.pt')\n",
        "model_easy = model_easy.cuda()\n",
        "model_easy.eval()"
      ],
      "metadata": {
        "colab": {
          "base_uri": "https://localhost:8080/"
        },
        "id": "FFMABoObFKf_",
        "outputId": "056c8859-1917-475a-cf5f-db7bb1db6f78"
      },
      "execution_count": 4,
      "outputs": [
        {
          "output_type": "execute_result",
          "data": {
            "text/plain": [
              "Finetunemodel(\n",
              "  (enhance): EnhanceNetwork(\n",
              "    (in_conv): Sequential(\n",
              "      (0): Conv2d(3, 3, kernel_size=(3, 3), stride=(1, 1), padding=(1, 1))\n",
              "      (1): ReLU()\n",
              "    )\n",
              "    (conv): Sequential(\n",
              "      (0): Conv2d(3, 3, kernel_size=(3, 3), stride=(1, 1), padding=(1, 1))\n",
              "      (1): BatchNorm2d(3, eps=1e-05, momentum=0.1, affine=True, track_running_stats=True)\n",
              "      (2): ReLU()\n",
              "    )\n",
              "    (blocks): ModuleList(\n",
              "      (0): Sequential(\n",
              "        (0): Conv2d(3, 3, kernel_size=(3, 3), stride=(1, 1), padding=(1, 1))\n",
              "        (1): BatchNorm2d(3, eps=1e-05, momentum=0.1, affine=True, track_running_stats=True)\n",
              "        (2): ReLU()\n",
              "      )\n",
              "    )\n",
              "    (out_conv): Sequential(\n",
              "      (0): Conv2d(3, 3, kernel_size=(3, 3), stride=(1, 1), padding=(1, 1))\n",
              "      (1): Sigmoid()\n",
              "    )\n",
              "  )\n",
              "  (_criterion): LossFunction(\n",
              "    (l2_loss): MSELoss()\n",
              "    (smooth_loss): SmoothLoss()\n",
              "  )\n",
              ")"
            ]
          },
          "metadata": {},
          "execution_count": 4
        }
      ]
    },
    {
      "cell_type": "code",
      "source": [
        "model_medium = Finetunemodel('./weights/medium.pt')\n",
        "model_medium = model_medium.cuda()\n",
        "model_medium.eval()"
      ],
      "metadata": {
        "colab": {
          "base_uri": "https://localhost:8080/"
        },
        "id": "DkRyip4eFRQJ",
        "outputId": "3672a51c-7703-4242-eba8-00782ee104b2"
      },
      "execution_count": 5,
      "outputs": [
        {
          "output_type": "execute_result",
          "data": {
            "text/plain": [
              "Finetunemodel(\n",
              "  (enhance): EnhanceNetwork(\n",
              "    (in_conv): Sequential(\n",
              "      (0): Conv2d(3, 3, kernel_size=(3, 3), stride=(1, 1), padding=(1, 1))\n",
              "      (1): ReLU()\n",
              "    )\n",
              "    (conv): Sequential(\n",
              "      (0): Conv2d(3, 3, kernel_size=(3, 3), stride=(1, 1), padding=(1, 1))\n",
              "      (1): BatchNorm2d(3, eps=1e-05, momentum=0.1, affine=True, track_running_stats=True)\n",
              "      (2): ReLU()\n",
              "    )\n",
              "    (blocks): ModuleList(\n",
              "      (0): Sequential(\n",
              "        (0): Conv2d(3, 3, kernel_size=(3, 3), stride=(1, 1), padding=(1, 1))\n",
              "        (1): BatchNorm2d(3, eps=1e-05, momentum=0.1, affine=True, track_running_stats=True)\n",
              "        (2): ReLU()\n",
              "      )\n",
              "    )\n",
              "    (out_conv): Sequential(\n",
              "      (0): Conv2d(3, 3, kernel_size=(3, 3), stride=(1, 1), padding=(1, 1))\n",
              "      (1): Sigmoid()\n",
              "    )\n",
              "  )\n",
              "  (_criterion): LossFunction(\n",
              "    (l2_loss): MSELoss()\n",
              "    (smooth_loss): SmoothLoss()\n",
              "  )\n",
              ")"
            ]
          },
          "metadata": {},
          "execution_count": 5
        }
      ]
    },
    {
      "cell_type": "code",
      "source": [
        "model_difficult = Finetunemodel('./weights/difficult.pt')\n",
        "model_difficult = model_difficult.cuda()\n",
        "model_difficult.eval()"
      ],
      "metadata": {
        "colab": {
          "base_uri": "https://localhost:8080/"
        },
        "id": "vyspFRXAFZVL",
        "outputId": "c8939d56-a51f-42f2-9ad1-1b776cb12a16"
      },
      "execution_count": 6,
      "outputs": [
        {
          "output_type": "execute_result",
          "data": {
            "text/plain": [
              "Finetunemodel(\n",
              "  (enhance): EnhanceNetwork(\n",
              "    (in_conv): Sequential(\n",
              "      (0): Conv2d(3, 3, kernel_size=(3, 3), stride=(1, 1), padding=(1, 1))\n",
              "      (1): ReLU()\n",
              "    )\n",
              "    (conv): Sequential(\n",
              "      (0): Conv2d(3, 3, kernel_size=(3, 3), stride=(1, 1), padding=(1, 1))\n",
              "      (1): BatchNorm2d(3, eps=1e-05, momentum=0.1, affine=True, track_running_stats=True)\n",
              "      (2): ReLU()\n",
              "    )\n",
              "    (blocks): ModuleList(\n",
              "      (0): Sequential(\n",
              "        (0): Conv2d(3, 3, kernel_size=(3, 3), stride=(1, 1), padding=(1, 1))\n",
              "        (1): BatchNorm2d(3, eps=1e-05, momentum=0.1, affine=True, track_running_stats=True)\n",
              "        (2): ReLU()\n",
              "      )\n",
              "    )\n",
              "    (out_conv): Sequential(\n",
              "      (0): Conv2d(3, 3, kernel_size=(3, 3), stride=(1, 1), padding=(1, 1))\n",
              "      (1): Sigmoid()\n",
              "    )\n",
              "  )\n",
              "  (_criterion): LossFunction(\n",
              "    (l2_loss): MSELoss()\n",
              "    (smooth_loss): SmoothLoss()\n",
              "  )\n",
              ")"
            ]
          },
          "metadata": {},
          "execution_count": 6
        }
      ]
    },
    {
      "cell_type": "markdown",
      "source": [
        "# ONNX変換"
      ],
      "metadata": {
        "id": "rTac_XopyGmu"
      }
    },
    {
      "cell_type": "code",
      "source": [
        "def convert_to_onnx(net, file_name='output.onnx', input_shape=(512, 512), device='cuda:0'):\n",
        "    input = torch.randn(1, 3, input_shape[0], input_shape[1]).to(device)\n",
        "\n",
        "    input_layer_names = ['input_image']\n",
        "    output_layer_names = ['output_image']\n",
        "\n",
        "    torch.onnx.export(\n",
        "        net, \n",
        "        input, \n",
        "        file_name, \n",
        "        verbose=True,\n",
        "        opset_version=13,\n",
        "        input_names=input_layer_names,\n",
        "        output_names=output_layer_names,\n",
        "    )"
      ],
      "metadata": {
        "id": "2SlIrLBjUCVD"
      },
      "execution_count": 7,
      "outputs": []
    },
    {
      "cell_type": "code",
      "source": [
        "convert_to_onnx(model_easy, file_name='sci_easy_512x512.onnx', input_shape=(512, 512))\n",
        "convert_to_onnx(model_medium, file_name='sci_medium_512x512.onnx', input_shape=(512, 512))\n",
        "convert_to_onnx(model_difficult, file_name='sci_difficult_512x512.onnx', input_shape=(512, 512))"
      ],
      "metadata": {
        "id": "5lcWfWQTUifq"
      },
      "execution_count": 8,
      "outputs": []
    }
  ]
}