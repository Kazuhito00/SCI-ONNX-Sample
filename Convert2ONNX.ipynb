{
  "nbformat": 4,
  "nbformat_minor": 0,
  "metadata": {
    "colab": {
      "name": "SCI-Convert2ONNX.ipynb",
      "provenance": [],
      "collapsed_sections": []
    },
    "kernelspec": {
      "name": "python3",
      "display_name": "Python 3"
    },
    "language_info": {
      "name": "python"
    }
  },
  "cells": [
    {
      "cell_type": "markdown",
      "source": [
        "# リポジトリクローン"
      ],
      "metadata": {
        "id": "nnUgU873x2Go"
      }
    },
    {
      "cell_type": "code",
      "execution_count": 1,
      "metadata": {
        "colab": {
          "base_uri": "https://localhost:8080/"
        },
        "id": "KNMrTo4TTdj-",
        "outputId": "da5876ba-c9eb-4a42-aa71-725ec6d5f0fe"
      },
      "outputs": [
        {
          "output_type": "stream",
          "name": "stdout",
          "text": [
            "Cloning into 'SCI'...\n",
            "remote: Enumerating objects: 40, done.\u001b[K\n",
            "remote: Counting objects: 100% (40/40), done.\u001b[K\n",
            "remote: Compressing objects: 100% (33/33), done.\u001b[K\n",
            "remote: Total 40 (delta 11), reused 0 (delta 0), pack-reused 0\u001b[K\n",
            "Unpacking objects: 100% (40/40), done.\n"
          ]
        }
      ],
      "source": [
        "!git clone https://github.com/tengyu1998/SCI"
      ]
    },
    {
      "cell_type": "code",
      "source": [
        "%cd SCI"
      ],
      "metadata": {
        "colab": {
          "base_uri": "https://localhost:8080/"
        },
        "id": "uCZOcdK6Tomd",
        "outputId": "478dd179-77a6-4cdd-a9df-09052a620733"
      },
      "execution_count": 2,
      "outputs": [
        {
          "output_type": "stream",
          "name": "stdout",
          "text": [
            "/content/SCI\n"
          ]
        }
      ]
    },
    {
      "cell_type": "markdown",
      "source": [
        "# モデルロード"
      ],
      "metadata": {
        "id": "Wvxm_ag2yD0S"
      }
    },
    {
      "cell_type": "code",
      "source": [
        "import torch\n",
        "from model_test import Network\n",
        "\n",
        "model = Network()\n",
        "model_dict = torch.load('model/demo.pt', map_location='cpu')\n",
        "model.load_state_dict(model_dict)\n",
        "\n",
        "model.eval()"
      ],
      "metadata": {
        "colab": {
          "base_uri": "https://localhost:8080/"
        },
        "id": "Y9Uiayi1Txj1",
        "outputId": "b8a21edd-3fb3-4e6f-9cc4-bf40e3c70e8c"
      },
      "execution_count": 3,
      "outputs": [
        {
          "output_type": "execute_result",
          "data": {
            "text/plain": [
              "Network(\n",
              "  (enhance): EnhanceNetwork(\n",
              "    (out_conv): Sequential(\n",
              "      (0): Conv2d(3, 3, kernel_size=(3, 3), stride=(1, 1), padding=(1, 1))\n",
              "      (1): ReLU()\n",
              "      (2): Conv2d(3, 3, kernel_size=(3, 3), stride=(1, 1), padding=(1, 1))\n",
              "      (3): ReLU()\n",
              "      (4): Conv2d(3, 3, kernel_size=(3, 3), stride=(1, 1), padding=(1, 1))\n",
              "      (5): Sigmoid()\n",
              "    )\n",
              "  )\n",
              ")"
            ]
          },
          "metadata": {},
          "execution_count": 3
        }
      ]
    },
    {
      "cell_type": "markdown",
      "source": [
        "# ONNX変換"
      ],
      "metadata": {
        "id": "rTac_XopyGmu"
      }
    },
    {
      "cell_type": "code",
      "source": [
        "def convert_to_onnx(net, file_name='output.onnx', input_shape=(512, 512), device='cpu'):\n",
        "    input = torch.randn(1, 3, input_shape[0], input_shape[1]).to(device)\n",
        "\n",
        "    input_layer_names = ['input_image']\n",
        "    output_layer_names = ['output_image']\n",
        "\n",
        "    torch.onnx.export(\n",
        "        net, \n",
        "        input, \n",
        "        file_name, \n",
        "        verbose=True,\n",
        "        opset_version=13,\n",
        "        input_names=input_layer_names,\n",
        "        output_names=output_layer_names,\n",
        "    )"
      ],
      "metadata": {
        "id": "2SlIrLBjUCVD"
      },
      "execution_count": 4,
      "outputs": []
    },
    {
      "cell_type": "code",
      "source": [
        "convert_to_onnx(model, input_shape=(512, 512))"
      ],
      "metadata": {
        "colab": {
          "base_uri": "https://localhost:8080/"
        },
        "id": "5lcWfWQTUifq",
        "outputId": "97771883-4b09-47c2-d2f8-114260d8af80"
      },
      "execution_count": 5,
      "outputs": [
        {
          "output_type": "stream",
          "name": "stdout",
          "text": [
            "graph(%input_image : Float(1, 3, 512, 512, strides=[786432, 262144, 512, 1], requires_grad=0, device=cpu),\n",
            "      %enhance.out_conv.0.weight : Float(3, 3, 3, 3, strides=[27, 9, 3, 1], requires_grad=1, device=cpu),\n",
            "      %enhance.out_conv.0.bias : Float(3, strides=[1], requires_grad=1, device=cpu),\n",
            "      %enhance.out_conv.2.weight : Float(3, 3, 3, 3, strides=[27, 9, 3, 1], requires_grad=1, device=cpu),\n",
            "      %enhance.out_conv.2.bias : Float(3, strides=[1], requires_grad=1, device=cpu),\n",
            "      %enhance.out_conv.4.weight : Float(3, 3, 3, 3, strides=[27, 9, 3, 1], requires_grad=1, device=cpu),\n",
            "      %enhance.out_conv.4.bias : Float(3, strides=[1], requires_grad=1, device=cpu),\n",
            "      %25 : Float(requires_grad=0, device=cpu),\n",
            "      %26 : Float(requires_grad=0, device=cpu),\n",
            "      %27 : Float(requires_grad=0, device=cpu),\n",
            "      %28 : Float(requires_grad=0, device=cpu)):\n",
            "  %7 : Float(1, 3, 512, 512, strides=[786432, 262144, 512, 1], requires_grad=1, device=cpu) = onnx::Conv[dilations=[1, 1], group=1, kernel_shape=[3, 3], pads=[1, 1, 1, 1], strides=[1, 1]](%input_image, %enhance.out_conv.0.weight, %enhance.out_conv.0.bias) # /usr/local/lib/python3.7/dist-packages/torch/nn/modules/conv.py:443:0\n",
            "  %8 : Float(1, 3, 512, 512, strides=[786432, 262144, 512, 1], requires_grad=1, device=cpu) = onnx::Relu(%7) # /usr/local/lib/python3.7/dist-packages/torch/nn/functional.py:1299:0\n",
            "  %9 : Float(1, 3, 512, 512, strides=[786432, 262144, 512, 1], requires_grad=1, device=cpu) = onnx::Conv[dilations=[1, 1], group=1, kernel_shape=[3, 3], pads=[1, 1, 1, 1], strides=[1, 1]](%8, %enhance.out_conv.2.weight, %enhance.out_conv.2.bias) # /usr/local/lib/python3.7/dist-packages/torch/nn/modules/conv.py:443:0\n",
            "  %10 : Float(1, 3, 512, 512, strides=[786432, 262144, 512, 1], requires_grad=1, device=cpu) = onnx::Relu(%9) # /usr/local/lib/python3.7/dist-packages/torch/nn/functional.py:1299:0\n",
            "  %11 : Float(1, 3, 512, 512, strides=[786432, 262144, 512, 1], requires_grad=1, device=cpu) = onnx::Conv[dilations=[1, 1], group=1, kernel_shape=[3, 3], pads=[1, 1, 1, 1], strides=[1, 1]](%10, %enhance.out_conv.4.weight, %enhance.out_conv.4.bias) # /usr/local/lib/python3.7/dist-packages/torch/nn/modules/conv.py:443:0\n",
            "  %12 : Float(1, 3, 512, 512, strides=[786432, 262144, 512, 1], requires_grad=1, device=cpu) = onnx::Sigmoid(%11) # /usr/local/lib/python3.7/dist-packages/torch/nn/modules/activation.py:291:0\n",
            "  %13 : Float(1, 3, 512, 512, strides=[786432, 262144, 512, 1], requires_grad=1, device=cpu) = onnx::Add(%12, %input_image) # /content/SCI/model_test.py:18:0\n",
            "  %18 : Float(1, 3, 512, 512, strides=[786432, 262144, 512, 1], requires_grad=1, device=cpu) = onnx::Clip(%13, %25, %26) # /content/SCI/model_test.py:19:0\n",
            "  %19 : Float(1, 3, 512, 512, strides=[786432, 262144, 512, 1], requires_grad=1, device=cpu) = onnx::Div(%input_image, %18) # /content/SCI/model_test.py:32:0\n",
            "  %output_image : Float(1, 3, 512, 512, strides=[786432, 262144, 512, 1], requires_grad=1, device=cpu) = onnx::Clip(%19, %27, %28) # /content/SCI/model_test.py:33:0\n",
            "  return (%output_image)\n",
            "\n"
          ]
        }
      ]
    }
  ]
}